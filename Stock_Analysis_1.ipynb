{
  "nbformat": 4,
  "nbformat_minor": 0,
  "metadata": {
    "colab": {
      "name": "Stock_Analysis_1.ipynb",
      "provenance": [],
      "authorship_tag": "ABX9TyM3bsb/DRthKMKdfBF7ubMp",
      "include_colab_link": true
    },
    "kernelspec": {
      "name": "python3",
      "display_name": "Python 3"
    }
  },
  "cells": [
    {
      "cell_type": "markdown",
      "metadata": {
        "id": "view-in-github",
        "colab_type": "text"
      },
      "source": [
        "<a href=\"https://colab.research.google.com/github/gitmaster-max/INFINITI/blob/master/Stock_Analysis_1.ipynb\" target=\"_parent\"><img src=\"https://colab.research.google.com/assets/colab-badge.svg\" alt=\"Open In Colab\"/></a>"
      ]
    },
    {
      "cell_type": "code",
      "metadata": {
        "id": "MpxMA4marA9B"
      },
      "source": [
        "import pandas as pd\n",
        "import numpy as np\n",
        "import pandas_datareader as pdr\n",
        "import datetime as dt\n",
        "import matplotlib.pyplot as plt\n",
        "plt.style.use('fivethirtyeight')\n"
      ],
      "execution_count": 5,
      "outputs": []
    },
    {
      "cell_type": "code",
      "metadata": {
        "id": "PpAaYhMNryid",
        "outputId": "9b17997a-3ffe-41f2-c49f-ef334a8a5125",
        "colab": {
          "base_uri": "https://localhost:8080/",
          "height": 233
        }
      },
      "source": [
        "start = dt.datetime(2020, 1, 1)\n",
        "end = dt.datetime(2020, 6, 1)\n",
        "\n",
        "df = pdr.DataReader('RELIANCE.NS', 'yahoo', start, dt.datetime.now())\n",
        "df.tail()"
      ],
      "execution_count": 10,
      "outputs": [
        {
          "output_type": "execute_result",
          "data": {
            "text/html": [
              "<div>\n",
              "<style scoped>\n",
              "    .dataframe tbody tr th:only-of-type {\n",
              "        vertical-align: middle;\n",
              "    }\n",
              "\n",
              "    .dataframe tbody tr th {\n",
              "        vertical-align: top;\n",
              "    }\n",
              "\n",
              "    .dataframe thead th {\n",
              "        text-align: right;\n",
              "    }\n",
              "</style>\n",
              "<table border=\"1\" class=\"dataframe\">\n",
              "  <thead>\n",
              "    <tr style=\"text-align: right;\">\n",
              "      <th></th>\n",
              "      <th>High</th>\n",
              "      <th>Low</th>\n",
              "      <th>Open</th>\n",
              "      <th>Close</th>\n",
              "      <th>Volume</th>\n",
              "      <th>Adj Close</th>\n",
              "    </tr>\n",
              "    <tr>\n",
              "      <th>Date</th>\n",
              "      <th></th>\n",
              "      <th></th>\n",
              "      <th></th>\n",
              "      <th></th>\n",
              "      <th></th>\n",
              "      <th></th>\n",
              "    </tr>\n",
              "  </thead>\n",
              "  <tbody>\n",
              "    <tr>\n",
              "      <th>2020-09-25</th>\n",
              "      <td>2212.800049</td>\n",
              "      <td>2167.300049</td>\n",
              "      <td>2189.000000</td>\n",
              "      <td>2201.699951</td>\n",
              "      <td>13095028.0</td>\n",
              "      <td>2201.699951</td>\n",
              "    </tr>\n",
              "    <tr>\n",
              "      <th>2020-09-28</th>\n",
              "      <td>2238.000000</td>\n",
              "      <td>2207.050049</td>\n",
              "      <td>2227.000000</td>\n",
              "      <td>2216.250000</td>\n",
              "      <td>9076248.0</td>\n",
              "      <td>2216.250000</td>\n",
              "    </tr>\n",
              "    <tr>\n",
              "      <th>2020-09-29</th>\n",
              "      <td>2264.000000</td>\n",
              "      <td>2216.250000</td>\n",
              "      <td>2225.000000</td>\n",
              "      <td>2245.050049</td>\n",
              "      <td>11926328.0</td>\n",
              "      <td>2245.050049</td>\n",
              "    </tr>\n",
              "    <tr>\n",
              "      <th>2020-09-30</th>\n",
              "      <td>2267.000000</td>\n",
              "      <td>2225.000000</td>\n",
              "      <td>2260.000000</td>\n",
              "      <td>2234.350098</td>\n",
              "      <td>11290667.0</td>\n",
              "      <td>2234.350098</td>\n",
              "    </tr>\n",
              "    <tr>\n",
              "      <th>2020-10-01</th>\n",
              "      <td>2263.800049</td>\n",
              "      <td>2226.449951</td>\n",
              "      <td>2263.800049</td>\n",
              "      <td>2230.000000</td>\n",
              "      <td>6535062.0</td>\n",
              "      <td>2230.000000</td>\n",
              "    </tr>\n",
              "  </tbody>\n",
              "</table>\n",
              "</div>"
            ],
            "text/plain": [
              "                   High          Low  ...      Volume    Adj Close\n",
              "Date                                  ...                         \n",
              "2020-09-25  2212.800049  2167.300049  ...  13095028.0  2201.699951\n",
              "2020-09-28  2238.000000  2207.050049  ...   9076248.0  2216.250000\n",
              "2020-09-29  2264.000000  2216.250000  ...  11926328.0  2245.050049\n",
              "2020-09-30  2267.000000  2225.000000  ...  11290667.0  2234.350098\n",
              "2020-10-01  2263.800049  2226.449951  ...   6535062.0  2230.000000\n",
              "\n",
              "[5 rows x 6 columns]"
            ]
          },
          "metadata": {
            "tags": []
          },
          "execution_count": 10
        }
      ]
    },
    {
      "cell_type": "code",
      "metadata": {
        "id": "gT7crK8qr0wt"
      },
      "source": [
        ""
      ],
      "execution_count": 3,
      "outputs": []
    }
  ]
}